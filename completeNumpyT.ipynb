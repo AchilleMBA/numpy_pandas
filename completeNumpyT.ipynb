{
 "cells": [
  {
   "cell_type": "code",
   "execution_count": 1,
   "id": "0d26665f-072d-4b58-bf34-d8f2bbd3ff41",
   "metadata": {},
   "outputs": [],
   "source": [
    "import numpy as np"
   ]
  },
  {
   "cell_type": "code",
   "execution_count": 2,
   "id": "cbb48bec-817d-408f-8cd8-e3a3c8a16c5c",
   "metadata": {},
   "outputs": [
    {
     "name": "stdout",
     "output_type": "stream",
     "text": [
      "[1, 2, 3, 4]\n"
     ]
    }
   ],
   "source": [
    "lst = [1, 2, 3,4]\n",
    "print(lst)"
   ]
  },
  {
   "cell_type": "code",
   "execution_count": 3,
   "id": "5066ec80-40c1-496d-9754-c1f606b5756c",
   "metadata": {},
   "outputs": [
    {
     "name": "stdout",
     "output_type": "stream",
     "text": [
      "1D array\n",
      "[1 2 3 4 5]\n"
     ]
    }
   ],
   "source": [
    "print('1D array')\n",
    "a = np.array([1,2,3,4,5])\n",
    "print(a)"
   ]
  },
  {
   "cell_type": "code",
   "execution_count": 8,
   "id": "8d779082-b7e3-4063-9d22-dcbe27f284cd",
   "metadata": {},
   "outputs": [
    {
     "name": "stdout",
     "output_type": "stream",
     "text": [
      "2D array\n",
      "[[ 1  2  3  4  5]\n",
      " [ 6  7  8  9 10]]\n"
     ]
    }
   ],
   "source": [
    "print('2D array')\n",
    "b = np.array([[1,2,3,4,5],\n",
    "               [6,7,8,9,10]])\n",
    "print(b)"
   ]
  },
  {
   "cell_type": "code",
   "execution_count": 9,
   "id": "6fb82585-84f3-469e-93b9-4a7b780e4a6c",
   "metadata": {},
   "outputs": [
    {
     "name": "stdout",
     "output_type": "stream",
     "text": [
      "3D array\n",
      "[[[ 1  2  3  4  5]\n",
      "  [ 6  7  8  9 10]\n",
      "  [11 12 13 14 15]]]\n"
     ]
    }
   ],
   "source": [
    "print('3D array')\n",
    "c = np.array([[[1,2,3,4,5],\n",
    "               [6,7,8,9,10],\n",
    "               [11,12,13,14,15]]])\n",
    "               \n",
    "print(c)"
   ]
  },
  {
   "cell_type": "code",
   "execution_count": 10,
   "id": "32f1acb7-0056-4ada-8f55-eb39cd61505e",
   "metadata": {},
   "outputs": [
    {
     "data": {
      "text/plain": [
       "numpy.ndarray"
      ]
     },
     "execution_count": 10,
     "metadata": {},
     "output_type": "execute_result"
    }
   ],
   "source": [
    "type(a)"
   ]
  },
  {
   "cell_type": "code",
   "execution_count": 11,
   "id": "3cc11044-6cf5-49f3-bbdb-15a967f88fce",
   "metadata": {},
   "outputs": [
    {
     "name": "stdout",
     "output_type": "stream",
     "text": [
      "5\n",
      "10\n",
      "15\n"
     ]
    }
   ],
   "source": [
    "print(a.size)\n",
    "print(b.size)\n",
    "print(c.size)"
   ]
  },
  {
   "cell_type": "raw",
   "id": "0a6d1ac8-f59b-4003-af96-c3cde9f78f14",
   "metadata": {},
   "source": [
    "size = number of elements ion that array"
   ]
  },
  {
   "cell_type": "raw",
   "id": "2a895a84-a21a-4907-953d-affae1eeb628",
   "metadata": {},
   "source": [
    "shape =(rows, col)"
   ]
  },
  {
   "cell_type": "code",
   "execution_count": 12,
   "id": "59d84d1f-845a-478b-a947-5010e7fc119c",
   "metadata": {},
   "outputs": [
    {
     "name": "stdout",
     "output_type": "stream",
     "text": [
      "(5,)\n",
      "(2, 5)\n",
      "(1, 3, 5)\n"
     ]
    }
   ],
   "source": [
    "print(a.shape)\n",
    "print(b.shape)\n",
    "print(c.shape)"
   ]
  },
  {
   "cell_type": "code",
   "execution_count": 13,
   "id": "66025d7a-86e3-4678-8e02-8cf60e7b6395",
   "metadata": {},
   "outputs": [
    {
     "name": "stdout",
     "output_type": "stream",
     "text": [
      "int64\n",
      "int64\n",
      "int64\n"
     ]
    }
   ],
   "source": [
    "print(a.dtype)\n",
    "print(b.dtype)\n",
    "print(c.dtype)"
   ]
  },
  {
   "cell_type": "code",
   "execution_count": 16,
   "id": "d49dfb6f-26b7-46a8-92de-f28e9d33f507",
   "metadata": {},
   "outputs": [
    {
     "name": "stdout",
     "output_type": "stream",
     "text": [
      "float64\n"
     ]
    }
   ],
   "source": [
    "d = np.array([[1,2,3,4.2,5],\n",
    "               [6,7,8.9,9,10],\n",
    "               [11,12,13,14,15]])\n",
    "print(d.dtype)"
   ]
  },
  {
   "cell_type": "code",
   "execution_count": 17,
   "id": "5fd9e06f-7fbe-49fb-819e-c44544903ea7",
   "metadata": {},
   "outputs": [
    {
     "data": {
      "text/plain": [
       "array([[ 1. ,  6. , 11. ],\n",
       "       [ 2. ,  7. , 12. ],\n",
       "       [ 3. ,  8.9, 13. ],\n",
       "       [ 4.2,  9. , 14. ],\n",
       "       [ 5. , 10. , 15. ]])"
      ]
     },
     "execution_count": 17,
     "metadata": {},
     "output_type": "execute_result"
    }
   ],
   "source": [
    "d.transpose()"
   ]
  },
  {
   "cell_type": "code",
   "execution_count": null,
   "id": "ee891540-d52a-4911-9346-9b52450ce868",
   "metadata": {},
   "outputs": [],
   "source": []
  }
 ],
 "metadata": {
  "kernelspec": {
   "display_name": "Python 3 (ipykernel)",
   "language": "python",
   "name": "python3"
  },
  "language_info": {
   "codemirror_mode": {
    "name": "ipython",
    "version": 3
   },
   "file_extension": ".py",
   "mimetype": "text/x-python",
   "name": "python",
   "nbconvert_exporter": "python",
   "pygments_lexer": "ipython3",
   "version": "3.12.3"
  }
 },
 "nbformat": 4,
 "nbformat_minor": 5
}
