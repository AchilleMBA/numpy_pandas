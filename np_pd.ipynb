{
 "cells": [
  {
   "cell_type": "code",
   "execution_count": 5,
   "id": "e6a91119-f227-4edb-b721-661ad5b403e8",
   "metadata": {},
   "outputs": [],
   "source": [
    "import pandas as pd\n",
    "import numpy as np"
   ]
  },
  {
   "cell_type": "code",
   "execution_count": 10,
   "id": "c880a7da-aa7e-4979-8baa-7ae6dbd7aeb8",
   "metadata": {},
   "outputs": [
    {
     "name": "stdout",
     "output_type": "stream",
     "text": [
      "this is a panda series\n",
      "0     1\n",
      "1     2\n",
      "2     3\n",
      "3     4\n",
      "4     5\n",
      "5     6\n",
      "6     7\n",
      "7     8\n",
      "8     9\n",
      "9    10\n",
      "dtype: int64\n",
      "Index: RangeIndex(start=0, stop=10, step=1)\n",
      "Values: [ 1  2  3  4  5  6  7  8  9 10]\n"
     ]
    }
   ],
   "source": [
    "arr = np.array([1,2,3,4,5,6,7,8,9,10])\n",
    "series = pd.Series(arr)\n",
    "print(\"this is a panda series\")\n",
    "print(series)\n",
    "\n",
    "print(\"Index:\", series.index)\n",
    "print(\"Values:\", series.values)"
   ]
  },
  {
   "cell_type": "code",
   "execution_count": 11,
   "id": "9310b396-618f-4100-863d-7fac4a405149",
   "metadata": {},
   "outputs": [
    {
     "name": "stdout",
     "output_type": "stream",
     "text": [
      "Sum: 55\n"
     ]
    }
   ],
   "source": [
    "print(\"Sum:\",series.sum())"
   ]
  },
  {
   "cell_type": "code",
   "execution_count": 12,
   "id": "28ca8c2c-9529-47c2-af9f-c7677d31d0ef",
   "metadata": {},
   "outputs": [
    {
     "name": "stdout",
     "output_type": "stream",
     "text": [
      "min: 1\n"
     ]
    }
   ],
   "source": [
    "print(\"min:\",series.min())"
   ]
  },
  {
   "cell_type": "code",
   "execution_count": 13,
   "id": "6ea0276d-9268-4e68-bc2a-1e71ddb24dce",
   "metadata": {},
   "outputs": [
    {
     "name": "stdout",
     "output_type": "stream",
     "text": [
      "max: 10\n"
     ]
    }
   ],
   "source": [
    "print(\"max:\",series.max())"
   ]
  },
  {
   "cell_type": "code",
   "execution_count": 18,
   "id": "edbb2459-59c2-4c57-958b-bd34ffcb3ca0",
   "metadata": {},
   "outputs": [
    {
     "name": "stdout",
     "output_type": "stream",
     "text": [
      "0    Achille\n",
      "1     Alicia\n",
      "2      Jaden\n",
      "3     Gianni\n",
      "Name: Name, dtype: object\n"
     ]
    }
   ],
   "source": [
    "print(dictionarry['Name'])"
   ]
  },
  {
   "cell_type": "code",
   "execution_count": 27,
   "id": "17fdc02d-148a-4f22-8a21-327d850900f0",
   "metadata": {},
   "outputs": [
    {
     "name": "stdout",
     "output_type": "stream",
     "text": [
      "      Name  Age     city  Gender\n",
      "0  Achille   51    Paris    Male\n",
      "1   Alicia   49   Angers  Female\n",
      "2    Jaden   24  Neuilly    Male\n",
      "3   Gianni   19  Neuilly    Male\n"
     ]
    }
   ],
   "source": [
    "dictionarry['Age']= dictionarry['Age'].apply(lambda x: x + 1)\n",
    "print(dictionarry)"
   ]
  },
  {
   "cell_type": "code",
   "execution_count": 28,
   "id": "39bc1eb5-16eb-44c6-b838-16c74627140a",
   "metadata": {},
   "outputs": [
    {
     "name": "stdout",
     "output_type": "stream",
     "text": [
      "      Name  Age     city  Gender\n",
      "0  Achille   51    Paris    Male\n",
      "1   Alicia   49   Angers  Female\n",
      "2    Jaden   24  Neuilly    Male\n",
      "3   Gianni   19  Neuilly    Male\n"
     ]
    }
   ],
   "source": [
    "dictionarry['Gender']=['Male','Female','Male','Male']\n",
    "print(dictionarry)"
   ]
  },
  {
   "cell_type": "code",
   "execution_count": 29,
   "id": "d754c543-083e-4e5b-85b7-d23c0daf51d1",
   "metadata": {},
   "outputs": [
    {
     "name": "stdout",
     "output_type": "stream",
     "text": [
      "      Name  Age     city  Gender\n",
      "0  Achille   45    Paris    Male\n",
      "1   Alicia   43   Angers  Female\n",
      "2    Jaden   18  Neuilly    Male\n",
      "3   Gianni   13  Neuilly    Male\n"
     ]
    }
   ],
   "source": [
    "dictionarry['Age']=[45,43,18,13]\n",
    "print(dictionarry)"
   ]
  },
  {
   "cell_type": "code",
   "execution_count": 30,
   "id": "e3f381cd-9610-4c1f-9986-f3e66c166927",
   "metadata": {},
   "outputs": [
    {
     "name": "stdout",
     "output_type": "stream",
     "text": [
      "      Name  Age    city  Gender\n",
      "0  Achille   45   Paris    Male\n",
      "1   Alicia   43  Angers  Female\n"
     ]
    }
   ],
   "source": [
    "filtered_age= dictionarry[dictionarry ['Age']>40]\n",
    "print(filtered_age)"
   ]
  },
  {
   "cell_type": "code",
   "execution_count": 35,
   "id": "47cc22d2-375e-455d-b4d5-4e08393b97ef",
   "metadata": {},
   "outputs": [
    {
     "name": "stdout",
     "output_type": "stream",
     "text": [
      "\n",
      "Accessing rows:\n",
      "Name      Alicia\n",
      "Age           43\n",
      "city      Angers\n",
      "Gender    Female\n",
      "Name: 1, dtype: object\n"
     ]
    }
   ],
   "source": [
    "# Accessing rows\n",
    "print(\"\\nAccessing rows:\")\n",
    "print(dictionarry.iloc[1]) # Accessing a single row by index"
   ]
  },
  {
   "cell_type": "code",
   "execution_count": 37,
   "id": "1e49bbf9-8c29-4976-a913-9dd5c17173d1",
   "metadata": {},
   "outputs": [
    {
     "name": "stdout",
     "output_type": "stream",
     "text": [
      "Name      Achille\n",
      "Age            45\n",
      "city        Paris\n",
      "Gender       Male\n",
      "Name: 0, dtype: object\n"
     ]
    }
   ],
   "source": [
    "# Accessing a single row by label\n",
    "print(dictionarry.loc[0])"
   ]
  },
  {
   "cell_type": "code",
   "execution_count": 2,
   "id": "039df997-be56-4a39-b9ad-29471a17e792",
   "metadata": {},
   "outputs": [],
   "source": [
    "# Accessing elements\n",
    "#print(\"\\nAccessing elements:\")\n",
    "#print(dictionarry.at[0, 'Age'])  # Accessing a single element by label\n",
    "#print(dictionarry.iat[1, 2])  # Accessing a single element by index"
   ]
  },
  {
   "cell_type": "code",
   "execution_count": 4,
   "id": "3771eb0d-5d8e-4469-96a8-604f04287430",
   "metadata": {},
   "outputs": [],
   "source": [
    "import pandas as pd\n"
   ]
  },
  {
   "cell_type": "markdown",
   "id": "78b9d9fd-25a2-42be-ada6-d7d81b6f5d22",
   "metadata": {},
   "source": [
    "Exercise 1: Planetary Analysis with Pandas 🌏\n",
    "\n",
    "You are part of a team working on analyzing planetary Earth data. Your task is to process and analyze the data using Pandas to extract insights.\n",
    "\n",
    "Objectives:\n",
    "Create a Pandas Series representing distances of planets from the Sun (in million kilometers)\n",
    "\n",
    "\n",
    "Create a Pandas DataFrame representing characteristics of moons of the outer planets\n",
    "Analyze the data to find key information about planetary distances and moon characteristics"
   ]
  },
  {
   "cell_type": "code",
   "execution_count": 5,
   "id": "469a8e8a-df4c-4073-b4b4-c6ff9b51d187",
   "metadata": {},
   "outputs": [],
   "source": [
    "planet_distances = {\n",
    "    'Mercury': 57.9,\n",
    "    'Venus': 108.2,\n",
    "    'Earth': 149.6,\n",
    "    'Mars': 227.9,\n",
    "    'Jupiter': 778.6,\n",
    "    'Saturn': 1433.5,\n",
    "    'Uranus': 2872.5,\n",
    "    'Neptune': 4495.1,\n",
    "    'Pluto': 5906.4\n",
    "}\n",
    "\n",
    "moon_data = {\n",
    "    'Planet': ['Jupiter', 'Jupiter', 'Saturn', 'Saturn', 'Uranus', 'Neptune'],\n",
    "    'Moon': ['Io', 'Ganymede', 'Titan', 'Rhea', 'Titania', 'Triton'],\n",
    "    'Diameter (km)': [3642, 5262, 5150, 1528, 1578, 2707],\n",
    "    'Orbital Period (days)': [1.77, 7.15, 15.95, 4.52, 8.71, 5.88]\n",
    "}"
   ]
  },
  {
   "cell_type": "code",
   "execution_count": null,
   "id": "90a4f8c8-c9e8-410f-9fe3-f573ac5b79a9",
   "metadata": {},
   "outputs": [],
   "source": []
  },
  {
   "cell_type": "code",
   "execution_count": 7,
   "id": "d5c6eee1-af1d-4601-99f3-93a691f57822",
   "metadata": {},
   "outputs": [
    {
     "name": "stdout",
     "output_type": "stream",
     "text": [
      "This is distances of planet from the sun\n",
      "Mercury      57.9\n",
      "Venus       108.2\n",
      "Earth       149.6\n",
      "Mars        227.9\n",
      "Jupiter     778.6\n",
      "Saturn     1433.5\n",
      "Uranus     2872.5\n",
      "Neptune    4495.1\n",
      "Pluto      5906.4\n",
      "dtype: float64\n"
     ]
    }
   ],
   "source": [
    "planet_series= pd.Series(planet_distances)\n",
    "print(\"This is distances of planet from the sun\")\n",
    "print(planet_series)"
   ]
  },
  {
   "cell_type": "code",
   "execution_count": 8,
   "id": "a2787be6-19da-48f1-bbd3-0c39c9c612b4",
   "metadata": {},
   "outputs": [
    {
     "name": "stdout",
     "output_type": "stream",
     "text": [
      "this is moon caracteristics outer planet\n",
      "    Planet      Moon  Diameter (km)  Orbital Period (days)\n",
      "0  Jupiter        Io           3642                   1.77\n",
      "1  Jupiter  Ganymede           5262                   7.15\n",
      "2   Saturn     Titan           5150                  15.95\n",
      "3   Saturn      Rhea           1528                   4.52\n",
      "4   Uranus   Titania           1578                   8.71\n",
      "5  Neptune    Triton           2707                   5.88\n"
     ]
    }
   ],
   "source": [
    "moon_data= pd.DataFrame(moon_data)\n",
    "print(\"this is moon caracteristics outer planet\")\n",
    "print(moon_data)\n"
   ]
  },
  {
   "cell_type": "code",
   "execution_count": 11,
   "id": "66d89075-be99-4c63-9131-0651537bf8a2",
   "metadata": {},
   "outputs": [
    {
     "name": "stdout",
     "output_type": "stream",
     "text": [
      "number of moon\n"
     ]
    }
   ],
   "source": [
    "print(\"number of moon\")\n"
   ]
  },
  {
   "cell_type": "code",
   "execution_count": 29,
   "id": "b5cc3d7d-1cad-42eb-a4d2-2166e3569f75",
   "metadata": {},
   "outputs": [
    {
     "name": "stdout",
     "output_type": "stream",
     "text": [
      "Jupiter :2\n",
      "Saturn :2\n",
      "Uranus :1\n",
      "Neptune :1\n"
     ]
    }
   ],
   "source": [
    "outer_planet = ['Jupiter','Saturn', 'Uranus', 'Neptune']\n",
    "for planet in outer_planet:\n",
    "    num_moon = moon_data[moon_data['Planet']==planet].shape[0]\n",
    "    print(f\"{planet} :{num_moon}\")\n"
   ]
  },
  {
   "cell_type": "code",
   "execution_count": 28,
   "id": "45902621-c9f2-4759-9ab4-ea48990e7abe",
   "metadata": {},
   "outputs": [
    {
     "name": "stdout",
     "output_type": "stream",
     "text": [
      "largest planet sort in km\n",
      "Neptune: Triton, (2707km)\n"
     ]
    }
   ],
   "source": [
    "for planet in outer_planets:\n",
    "    largest_moon = moon_data[moon_data['Planet'] == planet].sort_values(by='Diameter (km)', ascending=False).iloc[0]\n",
    "    print(f\"{planet}: {largest_moon['Moon']} ({largest_moon['Diameter (km)']} km)\")"
   ]
  },
  {
   "cell_type": "markdown",
   "id": "14a94c2c-a316-40ca-a797-794769f2f1ab",
   "metadata": {},
   "source": [
    "Working with Real Life Data ☄️\n",
    "Pandas allows us to work with a wide range of file formats from external sources. The code below allows us to import data via CSV and display information about it.\n",
    "\n",
    "The below downloads a CSV file of the most recent SpaceX Missions using a URL:"
   ]
  },
  {
   "cell_type": "code",
   "execution_count": 48,
   "id": "e0099899-e625-4af2-8592-cef62b4389ed",
   "metadata": {},
   "outputs": [
    {
     "name": "stdout",
     "output_type": "stream",
     "text": [
      "  Flight Number    Launch Date Launch Time       Launch Site Vehicle Type  \\\n",
      "0          F1-1  24 March 2006       22:30  Marshall Islands     Falcon 1   \n",
      "1          F1-2  21 March 2007       01:10  Marshall Islands     Falcon 1   \n",
      "2          F1-3  3 August 2008       03:34  Marshall Islands     Falcon 1   \n",
      "3          F1-3  3 August 2008       03:34  Marshall Islands     Falcon 1   \n",
      "4          F1-3  3 August 2008       03:34  Marshall Islands     Falcon 1   \n",
      "\n",
      "         Payload Name             Payload Type  Payload Mass (kg)  \\\n",
      "0         FalconSAT-2       Research Satellite               19.5   \n",
      "1             DemoSat                      NaN                NaN   \n",
      "2         Trailblazer  Communication Satellite                NaN   \n",
      "3  PRESat, NanoSail-D      Research Satellites                8.0   \n",
      "4           Explorers            Human Remains                NaN   \n",
      "\n",
      "  Payload Orbit Customer Name Customer Type Customer Country Mission Outcome  \\\n",
      "0           NaN         DARPA    Government    United States         Failure   \n",
      "1           NaN         DARPA    Government    United States         Failure   \n",
      "2           NaN           ORS    Government    United States         Failure   \n",
      "3           NaN          NASA    Government    United States         Failure   \n",
      "4           NaN      Celestis      Business    United States         Failure   \n",
      "\n",
      "                  Failure Reason Landing Type Landing Outcome  \n",
      "0      Engine Fire During Launch          NaN             NaN  \n",
      "1  Engine Shutdown During Launch          NaN             NaN  \n",
      "2        Collision During Launch          NaN             NaN  \n",
      "3        Collision During Launch          NaN             NaN  \n",
      "4        Collision During Launch          NaN             NaN  \n"
     ]
    }
   ],
   "source": [
    "import pandas as pd\n",
    "space_x_mission_csv = \"https://raw.githubusercontent.com/BriantOliveira/SpaceX-Dataset/master/dataset/SpaceX-Missions.csv\"\n",
    "df=pd.read_csv(space_x_mission_csv)\n",
    "print(df.head())"
   ]
  },
  {
   "cell_type": "code",
   "execution_count": 36,
   "id": "d03ffc7e-e812-4af2-ade8-9ecbee67a9df",
   "metadata": {},
   "outputs": [
    {
     "name": "stdout",
     "output_type": "stream",
     "text": [
      "<class 'pandas.core.frame.DataFrame'>\n",
      "RangeIndex: 41 entries, 0 to 40\n",
      "Data columns (total 16 columns):\n",
      " #   Column             Non-Null Count  Dtype  \n",
      "---  ------             --------------  -----  \n",
      " 0   Flight Number      41 non-null     object \n",
      " 1   Launch Date        41 non-null     object \n",
      " 2   Launch Time        41 non-null     object \n",
      " 3   Launch Site        41 non-null     object \n",
      " 4   Vehicle Type       41 non-null     object \n",
      " 5   Payload Name       41 non-null     object \n",
      " 6   Payload Type       38 non-null     object \n",
      " 7   Payload Mass (kg)  33 non-null     float64\n",
      " 8   Payload Orbit      36 non-null     object \n",
      " 9   Customer Name      39 non-null     object \n",
      " 10  Customer Type      39 non-null     object \n",
      " 11  Customer Country   39 non-null     object \n",
      " 12  Mission Outcome    41 non-null     object \n",
      " 13  Failure Reason     8 non-null      object \n",
      " 14  Landing Type       21 non-null     object \n",
      " 15  Landing Outcome    21 non-null     object \n",
      "dtypes: float64(1), object(15)\n",
      "memory usage: 5.3+ KB\n",
      "None\n"
     ]
    }
   ],
   "source": [
    "print(df.info())# Check basic information about the DataFrame"
   ]
  },
  {
   "cell_type": "code",
   "execution_count": 38,
   "id": "703e5f35-2435-415c-bbeb-ade432c63d3c",
   "metadata": {},
   "outputs": [
    {
     "name": "stdout",
     "output_type": "stream",
     "text": [
      "       Payload Mass (kg)\n",
      "count          33.000000\n",
      "mean         2739.772727\n",
      "std          2131.502973\n",
      "min             8.000000\n",
      "25%           570.000000\n",
      "50%          2490.000000\n",
      "75%          4159.000000\n",
      "max          9600.000000\n"
     ]
    }
   ],
   "source": [
    "print(df.describe())\n"
   ]
  },
  {
   "cell_type": "code",
   "execution_count": 39,
   "id": "228419ca-8f5e-4f4c-8137-b6e5367ae5ed",
   "metadata": {},
   "outputs": [
    {
     "name": "stdout",
     "output_type": "stream",
     "text": [
      "2739.7727272727275\n"
     ]
    }
   ],
   "source": [
    "mean_payload_mass =df['Payload Mass (kg)'].mean()\n",
    "print(mean_payload_mass)"
   ]
  },
  {
   "cell_type": "code",
   "execution_count": 40,
   "id": "2133b32f-0e88-4e81-8da0-ea7439f86e38",
   "metadata": {},
   "outputs": [
    {
     "name": "stdout",
     "output_type": "stream",
     "text": [
      "2490.0\n"
     ]
    }
   ],
   "source": [
    "median_payload_mass =df['Payload Mass (kg)'].median()\n",
    "print(median_payload_mass)"
   ]
  },
  {
   "cell_type": "code",
   "execution_count": 41,
   "id": "dfd9317c-cce8-489e-a1de-d1d893ad7956",
   "metadata": {},
   "outputs": [
    {
     "name": "stdout",
     "output_type": "stream",
     "text": [
      "90412.5\n"
     ]
    }
   ],
   "source": [
    "sum_payload_mass =df['Payload Mass (kg)'].sum()\n",
    "print(sum_payload_mass)"
   ]
  },
  {
   "cell_type": "code",
   "execution_count": 42,
   "id": "38930edb-e800-4d6c-b0d8-74c9cd0af418",
   "metadata": {},
   "outputs": [
    {
     "name": "stdout",
     "output_type": "stream",
     "text": [
      "2131.502972856349\n"
     ]
    }
   ],
   "source": [
    "std_payload_mass =df['Payload Mass (kg)'].std()\n",
    "print(std_payload_mass)"
   ]
  },
  {
   "cell_type": "code",
   "execution_count": 43,
   "id": "e983f040-b5cf-4e42-90b2-e84a6fc885ad",
   "metadata": {},
   "outputs": [
    {
     "name": "stdout",
     "output_type": "stream",
     "text": [
      "4543304.923295454\n"
     ]
    }
   ],
   "source": [
    "var_payload_mass =df['Payload Mass (kg)'].var()\n",
    "print(var_payload_mass)"
   ]
  },
  {
   "cell_type": "code",
   "execution_count": 45,
   "id": "7a0b3165-3712-400f-bdb9-38bc00761f52",
   "metadata": {},
   "outputs": [
    {
     "data": {
      "text/plain": [
       "array(['Marshall Islands', 'Cape Canaveral AFS LC-40',\n",
       "       'Vandenberg AFB SLC-4E', 'Kennedy Space Center LC-39A'],\n",
       "      dtype=object)"
      ]
     },
     "execution_count": 45,
     "metadata": {},
     "output_type": "execute_result"
    }
   ],
   "source": [
    "# Print all unique launch sites in the dataset\n",
    "pd.unique(df['Launch Site'])"
   ]
  },
  {
   "cell_type": "code",
   "execution_count": 47,
   "id": "eaa651a9-1e8c-421a-a4df-c5212ecdb6ac",
   "metadata": {},
   "outputs": [
    {
     "data": {
      "text/html": [
       "<div>\n",
       "<style scoped>\n",
       "    .dataframe tbody tr th:only-of-type {\n",
       "        vertical-align: middle;\n",
       "    }\n",
       "\n",
       "    .dataframe tbody tr th {\n",
       "        vertical-align: top;\n",
       "    }\n",
       "\n",
       "    .dataframe thead th {\n",
       "        text-align: right;\n",
       "    }\n",
       "</style>\n",
       "<table border=\"1\" class=\"dataframe\">\n",
       "  <thead>\n",
       "    <tr style=\"text-align: right;\">\n",
       "      <th></th>\n",
       "      <th>Payload Mass (kg)</th>\n",
       "    </tr>\n",
       "  </thead>\n",
       "  <tbody>\n",
       "    <tr>\n",
       "      <th>count</th>\n",
       "      <td>33.000000</td>\n",
       "    </tr>\n",
       "    <tr>\n",
       "      <th>mean</th>\n",
       "      <td>2739.772727</td>\n",
       "    </tr>\n",
       "    <tr>\n",
       "      <th>std</th>\n",
       "      <td>2131.502973</td>\n",
       "    </tr>\n",
       "    <tr>\n",
       "      <th>min</th>\n",
       "      <td>8.000000</td>\n",
       "    </tr>\n",
       "    <tr>\n",
       "      <th>25%</th>\n",
       "      <td>570.000000</td>\n",
       "    </tr>\n",
       "    <tr>\n",
       "      <th>50%</th>\n",
       "      <td>2490.000000</td>\n",
       "    </tr>\n",
       "    <tr>\n",
       "      <th>75%</th>\n",
       "      <td>4159.000000</td>\n",
       "    </tr>\n",
       "    <tr>\n",
       "      <th>max</th>\n",
       "      <td>9600.000000</td>\n",
       "    </tr>\n",
       "  </tbody>\n",
       "</table>\n",
       "</div>"
      ],
      "text/plain": [
       "       Payload Mass (kg)\n",
       "count          33.000000\n",
       "mean         2739.772727\n",
       "std          2131.502973\n",
       "min             8.000000\n",
       "25%           570.000000\n",
       "50%          2490.000000\n",
       "75%          4159.000000\n",
       "max          9600.000000"
      ]
     },
     "execution_count": 47,
     "metadata": {},
     "output_type": "execute_result"
    }
   ],
   "source": [
    "import numpy as np\n",
    "# Describe the statistical values of all the numerical columns within the dataset \n",
    "df.describe(include=[np.number])"
   ]
  },
  {
   "cell_type": "code",
   "execution_count": 62,
   "id": "9a087185-204e-4c8f-8e4f-33c0b4a76678",
   "metadata": {},
   "outputs": [
    {
     "name": "stdout",
     "output_type": "stream",
     "text": [
      "         Payload Name Payload Orbit\n",
      "0         FalconSAT-2           NaN\n",
      "1             DemoSat           NaN\n",
      "2         Trailblazer           NaN\n",
      "3  PRESat, NanoSail-D           NaN\n",
      "4           Explorers           NaN\n"
     ]
    }
   ],
   "source": [
    "select_columns = df[['Payload Name','Payload Orbit']]\n",
    "print(select_columns.head())"
   ]
  },
  {
   "cell_type": "code",
   "execution_count": 69,
   "id": "9b7b9697-71e1-436c-b7a5-0e79fc308899",
   "metadata": {},
   "outputs": [
    {
     "name": "stdout",
     "output_type": "stream",
     "text": [
      "   Flight Number       Launch Date Launch Time               Launch Site  \\\n",
      "38          FT-9  1 September 2016       13:07  Cape Canaveral AFS LC-40   \n",
      "37          FT-8    14 August 2016       05:26  Cape Canaveral AFS LC-40   \n",
      "34          FT-6      15 June 2016       14:29  Cape Canaveral AFS LC-40   \n",
      "35          FT-6      15 June 2016       14:29  Cape Canaveral AFS LC-40   \n",
      "33          FT-5       27 May 2016       21:39  Cape Canaveral AFS LC-40   \n",
      "32          FT-4        6 May 2016       05:21  Cape Canaveral AFS LC-40   \n",
      "31          FT-3      8 April 2016       20:43  Cape Canaveral AFS LC-40   \n",
      "30          FT-2      4 March 2016       23:35  Cape Canaveral AFS LC-40   \n",
      "39         FT-10   14 January 2017       17:54     Vandenberg AFB SLC-4E   \n",
      "15          F9-8   6 December 2014       22:06  Cape Canaveral AFS LC-40   \n",
      "14          F9-7   3 December 2013       22:41  Cape Canaveral AFS LC-40   \n",
      "26         F9-18     27 April 2015       23:03  Cape Canaveral AFS LC-40   \n",
      "23         F9-16      2 March 2015       03:50  Cape Canaveral AFS LC-40   \n",
      "24         F9-16      2 March 2015       03:50  Cape Canaveral AFS LC-40   \n",
      "19         F9-12  7 September 2014       05:00  Cape Canaveral AFS LC-40   \n",
      "18         F9-11     5 August 2014       08:00  Cape Canaveral AFS LC-40   \n",
      "\n",
      "                   Vehicle Type                    Payload Name  \\\n",
      "38  Falcon 9 Full Thrust (v1.2)                          Amos-6   \n",
      "37  Falcon 9 Full Thrust (v1.2)                        JCSAT-16   \n",
      "34  Falcon 9 Full Thrust (v1.2)                          ABS-2A   \n",
      "35  Falcon 9 Full Thrust (v1.2)  Eutelsat 117 West B (Satmex 9)   \n",
      "33  Falcon 9 Full Thrust (v1.2)                       Thaicom 8   \n",
      "32  Falcon 9 Full Thrust (v1.2)                        JCSAT-14   \n",
      "31  Falcon 9 Full Thrust (v1.2)                    SpaceX CRS-8   \n",
      "30  Falcon 9 Full Thrust (v1.2)                           SES-9   \n",
      "39  Falcon 9 Full Thrust (v1.2)               Iridium NEXT 1-10   \n",
      "15              Falcon 9 (v1.1)                       Thaicom 6   \n",
      "14              Falcon 9 (v1.1)                           SES-8   \n",
      "26              Falcon 9 (v1.1)       TurkmenAlem 52E/MonacoSAT   \n",
      "23              Falcon 9 (v1.1)                          ABS-3A   \n",
      "24              Falcon 9 (v1.1)  Eutelsat 115 West B (Satmex 7)   \n",
      "19              Falcon 9 (v1.1)                       AsiaSat 6   \n",
      "18              Falcon 9 (v1.1)                       AsiaSat 8   \n",
      "\n",
      "               Payload Type  Payload Mass (kg)                 Payload Orbit  \\\n",
      "38  Communication Satellite             5500.0  Geostationary Transfer Orbit   \n",
      "37  Communication Satellite             4600.0  Geostationary Transfer Orbit   \n",
      "34  Communication Satellite             3600.0  Geostationary Transfer Orbit   \n",
      "35  Communication Satellite             3600.0  Geostationary Transfer Orbit   \n",
      "33  Communication Satellite             3100.0  Geostationary Transfer Orbit   \n",
      "32  Communication Satellite             4696.0  Geostationary Transfer Orbit   \n",
      "31   Space Station Supplies             3136.0               Low Earth Orbit   \n",
      "30  Communication Satellite             5271.0  Geostationary Transfer Orbit   \n",
      "39  Communication Satellite             9600.0               Low Earth Orbit   \n",
      "15  Communication Satellite             3325.0  Geostationary Transfer Orbit   \n",
      "14  Communication Satellite             3170.0  Geostationary Transfer Orbit   \n",
      "26  Communication Satellite             4707.0  Geostationary Transfer Orbit   \n",
      "23  Communication Satellite             4159.0  Geostationary Transfer Orbit   \n",
      "24  Communication Satellite             4159.0  Geostationary Transfer Orbit   \n",
      "19  Communication Satellite             4428.0  Geostationary Transfer Orbit   \n",
      "18  Communication Satellite             4535.0  Geostationary Transfer Orbit   \n",
      "\n",
      "               Customer Name Customer Type Customer Country Mission Outcome  \\\n",
      "38                  Spacecom      Business           Israel         Failure   \n",
      "37    SKY Perfect JSAT Group      Business            Japan         Success   \n",
      "34  Asia Broadcast Satellite      Business          Bermuda         Success   \n",
      "35         Eutelsat (Satmex)      Business  France (Mexico)         Success   \n",
      "33                   Thaicom      Business         Thailand         Success   \n",
      "32    SKY Perfect JSAT Group      Business            Japan         Success   \n",
      "31                      NASA    Government    United States         Success   \n",
      "30                       SES      Business       Luxembourg         Success   \n",
      "39    Iridium Communications      Business    United States         Success   \n",
      "15                   Thaicom      Business         Thailand         Success   \n",
      "14                       SES      Business       Luxembourg         Success   \n",
      "26          Turkmenistan NSA    Government     Turkmenistan         Success   \n",
      "23  Asia Broadcast Satellite      Business          Bermuda         Success   \n",
      "24         Eutelsat (Satmex)      Business  France (Mexico)         Success   \n",
      "19                   AsiaSat      Business            China         Success   \n",
      "18                   AsiaSat      Business            China         Success   \n",
      "\n",
      "                     Failure Reason Landing Type Landing Outcome  \n",
      "38  Vehicle Explosion Before Launch          NaN             NaN  \n",
      "37                              NaN         Ship         Success  \n",
      "34                              NaN         Ship         Failure  \n",
      "35                              NaN         Ship         Failure  \n",
      "33                              NaN         Ship         Success  \n",
      "32                              NaN         Ship         Success  \n",
      "31                              NaN         Ship         Success  \n",
      "30                              NaN         Ship         Failure  \n",
      "39                              NaN         Ship         Success  \n",
      "15                              NaN          NaN             NaN  \n",
      "14                              NaN          NaN             NaN  \n",
      "26                              NaN          NaN             NaN  \n",
      "23                              NaN          NaN             NaN  \n",
      "24                              NaN          NaN             NaN  \n",
      "19                              NaN          NaN             NaN  \n",
      "18                              NaN          NaN             NaN  \n"
     ]
    }
   ],
   "source": [
    "filtered_payload= df[df['Payload Mass (kg)']>3000].sort_values(by='Flight Number',ascending=False)\n",
    "print(filtered_payload)"
   ]
  }
 ],
 "metadata": {
  "kernelspec": {
   "display_name": "Python 3 (ipykernel)",
   "language": "python",
   "name": "python3"
  },
  "language_info": {
   "codemirror_mode": {
    "name": "ipython",
    "version": 3
   },
   "file_extension": ".py",
   "mimetype": "text/x-python",
   "name": "python",
   "nbconvert_exporter": "python",
   "pygments_lexer": "ipython3",
   "version": "3.12.3"
  }
 },
 "nbformat": 4,
 "nbformat_minor": 5
}
